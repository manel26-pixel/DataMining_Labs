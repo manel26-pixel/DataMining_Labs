{
 "cells": [
  {
   "cell_type": "markdown",
   "metadata": {},
   "source": [
    "![Alt text](image1.png)\n"
   ]
  },
  {
   "cell_type": "markdown",
   "metadata": {},
   "source": [
    "![Alt text](image2.png)\n"
   ]
  },
  {
   "cell_type": "markdown",
   "metadata": {},
   "source": [
    "![Alt text](image3.png)\n"
   ]
  },
  {
   "cell_type": "code",
   "execution_count": 1,
   "metadata": {},
   "outputs": [
    {
     "data": {
      "text/html": [
       "<div>\n",
       "<style scoped>\n",
       "    .dataframe tbody tr th:only-of-type {\n",
       "        vertical-align: middle;\n",
       "    }\n",
       "\n",
       "    .dataframe tbody tr th {\n",
       "        vertical-align: top;\n",
       "    }\n",
       "\n",
       "    .dataframe thead th {\n",
       "        text-align: right;\n",
       "    }\n",
       "</style>\n",
       "<table border=\"1\" class=\"dataframe\">\n",
       "  <thead>\n",
       "    <tr style=\"text-align: right;\">\n",
       "      <th></th>\n",
       "      <th>ep (ms)</th>\n",
       "      <th>Acc_x</th>\n",
       "      <th>Acc_y</th>\n",
       "      <th>Acc_z</th>\n",
       "      <th>Gyro_x</th>\n",
       "      <th>Gyro_y</th>\n",
       "      <th>Gyro_z</th>\n",
       "      <th>ID</th>\n",
       "      <th>Exercise</th>\n",
       "      <th>Category</th>\n",
       "      <th>Set</th>\n",
       "    </tr>\n",
       "  </thead>\n",
       "  <tbody>\n",
       "    <tr>\n",
       "      <th>0</th>\n",
       "      <td>2019-01-11 15:08:05.200</td>\n",
       "      <td>0.013500</td>\n",
       "      <td>0.977000</td>\n",
       "      <td>-0.071000</td>\n",
       "      <td>-1.8904</td>\n",
       "      <td>2.4392</td>\n",
       "      <td>0.9388</td>\n",
       "      <td>B</td>\n",
       "      <td>bench</td>\n",
       "      <td>heavy</td>\n",
       "      <td>30.0</td>\n",
       "    </tr>\n",
       "    <tr>\n",
       "      <th>1</th>\n",
       "      <td>2019-01-11 15:08:05.400</td>\n",
       "      <td>-0.001500</td>\n",
       "      <td>0.970500</td>\n",
       "      <td>-0.079500</td>\n",
       "      <td>-1.6826</td>\n",
       "      <td>-0.8904</td>\n",
       "      <td>2.1708</td>\n",
       "      <td>B</td>\n",
       "      <td>bench</td>\n",
       "      <td>heavy</td>\n",
       "      <td>30.0</td>\n",
       "    </tr>\n",
       "    <tr>\n",
       "      <th>2</th>\n",
       "      <td>2019-01-11 15:08:05.600</td>\n",
       "      <td>0.001333</td>\n",
       "      <td>0.971667</td>\n",
       "      <td>-0.064333</td>\n",
       "      <td>2.5608</td>\n",
       "      <td>-0.2560</td>\n",
       "      <td>-1.4146</td>\n",
       "      <td>B</td>\n",
       "      <td>bench</td>\n",
       "      <td>heavy</td>\n",
       "      <td>30.0</td>\n",
       "    </tr>\n",
       "    <tr>\n",
       "      <th>3</th>\n",
       "      <td>2019-01-11 15:08:05.800</td>\n",
       "      <td>-0.024000</td>\n",
       "      <td>0.957000</td>\n",
       "      <td>-0.073500</td>\n",
       "      <td>8.0610</td>\n",
       "      <td>-4.5244</td>\n",
       "      <td>-2.0730</td>\n",
       "      <td>B</td>\n",
       "      <td>bench</td>\n",
       "      <td>heavy</td>\n",
       "      <td>30.0</td>\n",
       "    </tr>\n",
       "    <tr>\n",
       "      <th>4</th>\n",
       "      <td>2019-01-11 15:08:06.000</td>\n",
       "      <td>-0.028000</td>\n",
       "      <td>0.957667</td>\n",
       "      <td>-0.115000</td>\n",
       "      <td>2.4390</td>\n",
       "      <td>-1.5486</td>\n",
       "      <td>-3.6098</td>\n",
       "      <td>B</td>\n",
       "      <td>bench</td>\n",
       "      <td>heavy</td>\n",
       "      <td>30.0</td>\n",
       "    </tr>\n",
       "  </tbody>\n",
       "</table>\n",
       "</div>"
      ],
      "text/plain": [
       "                   ep (ms)     Acc_x     Acc_y     Acc_z  Gyro_x  Gyro_y  \\\n",
       "0  2019-01-11 15:08:05.200  0.013500  0.977000 -0.071000 -1.8904  2.4392   \n",
       "1  2019-01-11 15:08:05.400 -0.001500  0.970500 -0.079500 -1.6826 -0.8904   \n",
       "2  2019-01-11 15:08:05.600  0.001333  0.971667 -0.064333  2.5608 -0.2560   \n",
       "3  2019-01-11 15:08:05.800 -0.024000  0.957000 -0.073500  8.0610 -4.5244   \n",
       "4  2019-01-11 15:08:06.000 -0.028000  0.957667 -0.115000  2.4390 -1.5486   \n",
       "\n",
       "   Gyro_z ID Exercise Category   Set  \n",
       "0  0.9388  B    bench    heavy  30.0  \n",
       "1  2.1708  B    bench    heavy  30.0  \n",
       "2 -1.4146  B    bench    heavy  30.0  \n",
       "3 -2.0730  B    bench    heavy  30.0  \n",
       "4 -3.6098  B    bench    heavy  30.0  "
      ]
     },
     "execution_count": 1,
     "metadata": {},
     "output_type": "execute_result"
    }
   ],
   "source": [
    "# Preparing \n",
    "import os\n",
    "import numpy as np\n",
    "import pandas as pd\n",
    "import seaborn as sns\n",
    "import matplotlib.pyplot as plt\n",
    "import datetime\n",
    "\n",
    "df = pd.read_csv(\"DatasetExos.csv\",nrows=5000, sep=',')\n",
    "df.head()\n"
   ]
  },
  {
   "cell_type": "markdown",
   "metadata": {},
   "source": [
    "on remarque que les colonnes 1 8 9 10 ne sont pas numerique donc on les supprime"
   ]
  },
  {
   "cell_type": "code",
   "execution_count": 2,
   "metadata": {},
   "outputs": [
    {
     "name": "stdout",
     "output_type": "stream",
     "text": [
      "         Acc_x     Acc_y     Acc_z   Gyro_x   Gyro_y  Gyro_z   Set\n",
      "0     0.013500  0.977000 -0.071000  -1.8904   2.4392  0.9388  30.0\n",
      "1    -0.001500  0.970500 -0.079500  -1.6826  -0.8904  2.1708  30.0\n",
      "2     0.001333  0.971667 -0.064333   2.5608  -0.2560 -1.4146  30.0\n",
      "3    -0.024000  0.957000 -0.073500   8.0610  -4.5244 -2.0730  30.0\n",
      "4    -0.028000  0.957667 -0.115000   2.4390  -1.5486 -3.6098  30.0\n",
      "...        ...       ...       ...      ...      ...     ...   ...\n",
      "4995 -0.045500 -1.074500 -0.072000  15.8534  -0.3782 -6.8172   6.0\n",
      "4996 -0.004000 -0.911667  0.002667  57.9756   1.3536 -1.9268   6.0\n",
      "4997  0.024500 -0.698500  0.175500  70.9880 -13.6952  4.4148   6.0\n",
      "4998  0.015000 -0.855333  0.401000   9.2194  -3.0730  2.7682   6.0\n",
      "4999  0.009000 -0.916000  0.465500 -28.5364   3.8780  7.3778   6.0\n",
      "\n",
      "[5000 rows x 7 columns]\n"
     ]
    }
   ],
   "source": [
    "df_new=df.drop(df.columns[[0, 7, 8, 9]], axis=1)\n",
    "df_new.head()\n",
    "print(df_new)"
   ]
  },
  {
   "cell_type": "code",
   "execution_count": 3,
   "metadata": {},
   "outputs": [
    {
     "name": "stdout",
     "output_type": "stream",
     "text": [
      "      Acc_x  Acc_y  Acc_z  Gyro_x  Gyro_y  Gyro_z   Set\n",
      "0      True   True   True    True    True    True  True\n",
      "1      True   True   True    True    True    True  True\n",
      "2      True   True   True    True    True    True  True\n",
      "3      True   True   True    True    True    True  True\n",
      "4      True   True   True    True    True    True  True\n",
      "...     ...    ...    ...     ...     ...     ...   ...\n",
      "4995   True   True   True    True    True    True  True\n",
      "4996   True   True   True    True    True    True  True\n",
      "4997   True   True   True    True    True    True  True\n",
      "4998   True   True   True    True    True    True  True\n",
      "4999   True   True   True    True    True    True  True\n",
      "\n",
      "[5000 rows x 7 columns]\n"
     ]
    },
    {
     "name": "stderr",
     "output_type": "stream",
     "text": [
      "/var/folders/x0/9l9lt4g56dl5nws_qscbtj6r0000gn/T/ipykernel_1070/1299363248.py:1: FutureWarning: DataFrame.applymap has been deprecated. Use DataFrame.map instead.\n",
      "  print(df_new.applymap(lambda x: isinstance(x, (int, float))))#verification des valeurs si reel ou entiere\n"
     ]
    }
   ],
   "source": [
    "print(df_new.applymap(lambda x: isinstance(x, (int, float))))#verification des valeurs si reel ou entiere\n",
    "#on remarque que les valeur ne sont ni ree ni entier à cause du ."
   ]
  },
  {
   "cell_type": "code",
   "execution_count": 4,
   "metadata": {},
   "outputs": [
    {
     "name": "stdout",
     "output_type": "stream",
     "text": [
      "      Acc_x  Acc_y  Acc_z  Gyro_x  Gyro_y  Gyro_z   Set\n",
      "0      True   True   True    True    True    True  True\n",
      "1      True   True   True    True    True    True  True\n",
      "2      True   True   True    True    True    True  True\n",
      "3      True   True   True    True    True    True  True\n",
      "4      True   True   True    True    True    True  True\n",
      "...     ...    ...    ...     ...     ...     ...   ...\n",
      "4995   True   True   True    True    True    True  True\n",
      "4996   True   True   True    True    True    True  True\n",
      "4997   True   True   True    True    True    True  True\n",
      "4998   True   True   True    True    True    True  True\n",
      "4999   True   True   True    True    True    True  True\n",
      "\n",
      "[5000 rows x 7 columns]\n"
     ]
    },
    {
     "name": "stderr",
     "output_type": "stream",
     "text": [
      "/var/folders/x0/9l9lt4g56dl5nws_qscbtj6r0000gn/T/ipykernel_1070/190011261.py:13: FutureWarning: DataFrame.applymap has been deprecated. Use DataFrame.map instead.\n",
      "  df_new=df_new.applymap(convertir_virgule_en_point)\n",
      "/var/folders/x0/9l9lt4g56dl5nws_qscbtj6r0000gn/T/ipykernel_1070/190011261.py:16: FutureWarning: DataFrame.applymap has been deprecated. Use DataFrame.map instead.\n",
      "  print(df_new.applymap(lambda x: isinstance(x, (int, float))))\n"
     ]
    }
   ],
   "source": [
    "#on converti les point en virgule\n",
    "def convertir_virgule_en_point(val):\n",
    "    str_val=str(val).replace(',', '.').replace('.', '', str(val).count('.') - 1)\n",
    "    \n",
    "    #convertion en float\n",
    "    try:\n",
    "        float_value=float(str_val) if str_val else None\n",
    "    except ValueError:\n",
    "        float_value=None  \n",
    "    return float_value\n",
    "\n",
    "\n",
    "df_new=df_new.applymap(convertir_virgule_en_point)\n",
    "\n",
    "#virification de la convertion\n",
    "print(df_new.applymap(lambda x: isinstance(x, (int, float))))"
   ]
  },
  {
   "cell_type": "code",
   "execution_count": 5,
   "metadata": {},
   "outputs": [],
   "source": [
    "#methode2\n",
    "def discretiser_intervalle_egales(data):\n",
    "    #calculer le nombre d interval k en utilisant la formule  donne au tp\n",
    "    k=round(1 + (3/10) * np.log10(len(data)))\n",
    "\n",
    "    #calculer les valeur minimale et maximale du dataset\n",
    "    min_val=np.min(data)\n",
    "    max_val=np.max(data)\n",
    "\n",
    "    #calcule de la largeur de chaque interval\n",
    "    interval_width=(max_val - min_val) / k\n",
    "\n",
    "    #creation des interval \n",
    "    intervals = [(min_val + i * interval_width, min_val + (i + 1) * interval_width) for i in range(k)]\n",
    "\n",
    "    #discretisation\n",
    "    discretized_data = np.digitize(data, [interval[1] for interval in intervals])\n",
    "\n",
    "    return discretized_data"
   ]
  },
  {
   "cell_type": "code",
   "execution_count": 6,
   "metadata": {},
   "outputs": [],
   "source": [
    "#fonction qui calcule moyenne interval\n",
    "def calculer_moyennes_intervalles(data, donnees_discretes):\n",
    "    etiquettes_uniques=np.unique(donnees_discretes)\n",
    "    moyennes_intervalles=[]\n",
    "\n",
    "    for etiquette in etiquettes_uniques:\n",
    "        donnees_intervalle=data[donnees_discretes == etiquette]\n",
    "        moyenne_intervalle=np.mean(donnees_intervalle)\n",
    "        moyennes_intervalles.append(moyenne_intervalle)\n",
    "\n",
    "    return np.array(moyennes_intervalles)"
   ]
  },
  {
   "cell_type": "code",
   "execution_count": 7,
   "metadata": {},
   "outputs": [
    {
     "name": "stdout",
     "output_type": "stream",
     "text": [
      "les types des colonnes du dataset sont Acc_x     float64\n",
      "Acc_y     float64\n",
      "Acc_z     float64\n",
      "Gyro_x    float64\n",
      "Gyro_y    float64\n",
      "Gyro_z    float64\n",
      "Set       float64\n",
      "dtype: object\n"
     ]
    }
   ],
   "source": [
    "def extract_columns_types(df):\n",
    "    # columns=list(df)\n",
    "    \n",
    "    types= df.dtypes\n",
    "    return types\n",
    "types=extract_columns_types(df_new)\n",
    "print(\"les types des colonnes du dataset sont\", types)"
   ]
  },
  {
   "cell_type": "code",
   "execution_count": 8,
   "metadata": {},
   "outputs": [],
   "source": [
    "#normalisation min-max\n",
    "def normalise_value(data, new_min=0, new_max=1):\n",
    "    \n",
    "    # Forcer la conversion en type float pour assurer des données numériques\n",
    "    #data = pd.to_numeric(data, errors='coerce')\n",
    "    min_val = np.min(data)\n",
    "    max_val = np.max(data)\n",
    "    if min_val == max_val:\n",
    "        #dans le cas ou min=max on remplace le reste par le min pour eviter la division par 0\n",
    "        return np.full(data.shape, new_min)\n",
    "    else:\n",
    "        #la formule\n",
    "        normalized_data = ((data - min_val) / (max_val - min_val)) * (new_max - new_min) + new_min\n",
    "        return normalized_data\n"
   ]
  },
  {
   "cell_type": "code",
   "execution_count": 9,
   "metadata": {},
   "outputs": [
    {
     "name": "stdout",
     "output_type": "stream",
     "text": [
      "2\n"
     ]
    }
   ],
   "source": [
    "k = round(1 + (3/10) * np.log10(len(df_new)))\n",
    "print(k)"
   ]
  },
  {
   "cell_type": "code",
   "execution_count": 10,
   "metadata": {},
   "outputs": [
    {
     "name": "stdout",
     "output_type": "stream",
     "text": [
      "      0  1  2  3  4  5  6\n",
      "0     1  1  1  1  1  1  1\n",
      "1     1  1  1  1  1  1  1\n",
      "2     1  1  1  1  1  1  1\n",
      "3     1  1  1  1  1  1  1\n",
      "4     1  1  1  1  1  1  1\n",
      "...  .. .. .. .. .. .. ..\n",
      "4995  1  1  1  1  1  1  1\n",
      "4996  1  1  1  1  1  1  1\n",
      "4997  1  1  1  1  0  1  1\n",
      "4998  1  1  1  1  1  1  1\n",
      "4999  1  1  1  0  1  1  1\n",
      "\n",
      "[5000 rows x 7 columns]\n"
     ]
    }
   ],
   "source": [
    "donnees_discretes=discretiser_intervalle_egales(df_new)\n",
    "#print(donnees_discretes)\n",
    "df_discretise=pd.DataFrame(donnees_discretes)\n",
    "\n",
    "df_discretise.head()\n",
    "print(df_discretise)"
   ]
  },
  {
   "cell_type": "code",
   "execution_count": 11,
   "metadata": {},
   "outputs": [
    {
     "data": {
      "text/plain": [
       "array([5.04808873, 7.7029946 , 9.69878289])"
      ]
     },
     "execution_count": 11,
     "metadata": {},
     "output_type": "execute_result"
    }
   ],
   "source": [
    "moyennes_intervalles=calculer_moyennes_intervalles(df_new,donnees_discretes)\n",
    "moyennes_intervalles"
   ]
  },
  {
   "cell_type": "code",
   "execution_count": 12,
   "metadata": {},
   "outputs": [
    {
     "name": "stdout",
     "output_type": "stream",
     "text": [
      "DataFrame après normalisation :\n",
      "      Acc_x     Acc_y     Acc_z    Gyro_x    Gyro_y    Gyro_z       Set\n",
      "0  0.999934  0.791869  0.328671  0.440627  0.514566  0.311741  0.292135\n",
      "1  0.999932  0.789829  0.323576  0.441746  0.494928  0.311827  0.292135\n",
      "2  0.999932  0.790195  0.332667  0.464599  0.498669  0.311577  0.292135\n",
      "3  0.999930  0.785591  0.327173  0.494220  0.473494  0.311532  0.292135\n",
      "4  0.999929  0.785800  0.302298  0.463943  0.491046  0.311424  0.292135\n"
     ]
    }
   ],
   "source": [
    "df_normalized = df_new.copy()\n",
    "for col in df_new.columns:\n",
    "    df_normalized[col] = normalise_value(df_new[col], new_min=0, new_max=1)\n",
    "\n",
    "print(\"DataFrame après normalisation :\")\n",
    "print(df_normalized.head())"
   ]
  }
 ],
 "metadata": {
  "kernelspec": {
   "display_name": "Python 3",
   "language": "python",
   "name": "python3"
  },
  "language_info": {
   "codemirror_mode": {
    "name": "ipython",
    "version": 3
   },
   "file_extension": ".py",
   "mimetype": "text/x-python",
   "name": "python",
   "nbconvert_exporter": "python",
   "pygments_lexer": "ipython3",
   "version": "3.10.0"
  }
 },
 "nbformat": 4,
 "nbformat_minor": 2
}
